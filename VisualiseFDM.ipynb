{
 "cells": [
  {
   "cell_type": "markdown",
   "metadata": {},
   "source": [
    "# cpp-finance-FDM-visualiser\n",
    "\n",
    "This is an iPython notebook with all the requirements for Binder Hub (mybinder.org) to run it, so students can upload the result of their C++ program written in lab and visualise the output.\n",
    "\n",
    "## Copyright\n",
    "\n",
    "Copyright 2019 Laurence Alexander Hurst\n",
    "\n",
    "## Licence\n",
    "\n",
    "This file is part of C++ for Finance.\n",
    "\n",
    "> C++ for Finance is free software: you can redistribute it and/or modify\n",
    "> it under the terms of the GNU General Public License as published by\n",
    "> the Free Software Foundation, either version 3 of the License, or\n",
    "> (at your option) any later version.\n",
    "> \n",
    "> C++ for Finance is distributed in the hope that it will be useful,\n",
    "> but WITHOUT ANY WARRANTY; without even the implied warranty of\n",
    "> MERCHANTABILITY or FITNESS FOR A PARTICULAR PURPOSE.  See the\n",
    "> GNU General Public License for more details.\n",
    "> \n",
    "> You should have received a copy of the GNU General Public License\n",
    "> along with Foobar.  If not, see <https://www.gnu.org/licenses/>.\n",
    "\n",
    "See the file LICENSE in the original source code repository for the\n",
    "full licence.\n"
   ]
  },
  {
   "cell_type": "code",
   "execution_count": null,
   "metadata": {},
   "outputs": [],
   "source": [
    "from mpl_toolkits.mplot3d import Axes3D\n",
    "import matplotlib\n",
    "import numpy as np\n",
    "from matplotlib import cm\n",
    "from matplotlib import pyplot as plt"
   ]
  },
  {
   "cell_type": "code",
   "execution_count": null,
   "metadata": {},
   "outputs": [],
   "source": [
    "filename=\"myupload.csv\" ###FIXME: enter your uploaded file name"
   ]
  },
  {
   "cell_type": "code",
   "execution_count": null,
   "metadata": {},
   "outputs": [],
   "source": [
    "t_steps=15 ###FIXME: enter the number of time steps in your uploaded file\n",
    "s_steps=15 ###FIXME: enter the number of spot-price steps in your uploaded file"
   ]
  },
  {
   "cell_type": "code",
   "execution_count": null,
   "metadata": {},
   "outputs": [],
   "source": [
    "# If you get an error here, check:\n",
    "#   1) your values above match the program used to generate the csv\n",
    "#   2) your program actually outputted a csv with the right number of rows\n",
    "x, y, z = np.loadtxt(filename, delimiter=',', unpack=True)\n",
    "X = np.reshape(x, (t_steps,s_steps))\n",
    "Y = np.reshape(y, (t_steps,s_steps))\n",
    "Z = np.reshape(z, (t_steps,s_steps))\n",
    "print(X.shape, Y.shape, Z.shape)"
   ]
  },
  {
   "cell_type": "code",
   "execution_count": null,
   "metadata": {},
   "outputs": [],
   "source": [
    "fig = plt.figure()\n",
    "ax = fig.add_subplot(111, projection='3d')\n",
    "\n",
    "ax.plot_surface(X, Y, Z, rstride=1, cstride=1)\n",
    "ax.set_zlim3d(0, 1.0)\n",
    "ax.set_xlabel(r'$T-t$')\n",
    "ax.set_ylabel(r'$S$')\n",
    "ax.set_zlabel(r'$C(S,t)$')\n",
    "\n",
    "# You can adjust this to change the orientation of the plot -t arguments are (evelation, rotation)\n",
    "ax.view_init(30, -20)\n",
    "#ax.view_init(-10,40)\n",
    "\n",
    "plt.show() "
   ]
  }
 ],
 "metadata": {
  "kernelspec": {
   "display_name": "Python 2",
   "language": "python",
   "name": "python2"
  },
  "language_info": {
   "codemirror_mode": {
    "name": "ipython",
    "version": 2
   },
   "file_extension": ".py",
   "mimetype": "text/x-python",
   "name": "python",
   "nbconvert_exporter": "python",
   "pygments_lexer": "ipython2",
   "version": "2.7.16"
  }
 },
 "nbformat": 4,
 "nbformat_minor": 2
}
